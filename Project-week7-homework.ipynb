{
 "cells": [
  {
   "cell_type": "code",
   "execution_count": 1,
   "metadata": {},
   "outputs": [],
   "source": [
    "import os\n",
    "import glob\n",
    "import shutil\n",
    "import pandas"
   ]
  },
  {
   "cell_type": "code",
   "execution_count": 2,
   "metadata": {},
   "outputs": [
    {
     "name": "stdout",
     "output_type": "stream",
     "text": [
      "Enter pig number: \n",
      "Pig109011RAcontrol\n",
      "['Pig109011RAcontrol/Run0002R000.ari.txt', 'Pig109011RAcontrol/Run0003R000.ari.txt', 'Pig109011RAcontrol/Run0004R000.ari.txt', 'Pig109011RAcontrol/Run0005R000.ari.txt', 'Pig109011RAcontrol/Run0006R000.ari.txt', 'Pig109011RAcontrol/Run0007R000.ari.txt', 'Pig109011RAcontrol/Run0008R000.ari.txt', 'Pig109011RAcontrol/Run0013R000.ari.txt', 'Pig109011RAcontrol/Run0014R000.ari.txt']\n"
     ]
    }
   ],
   "source": [
    "print(\"Enter pig number: \")\n",
    "input_directory = input()\n",
    "filepattern = \"*.ari.txt\"\n",
    "pigfile = sorted(glob.glob(os.path.join(input_directory,filepattern)))\n",
    "print(pigfile)"
   ]
  },
  {
   "cell_type": "code",
   "execution_count": 20,
   "metadata": {},
   "outputs": [
    {
     "ename": "NameError",
     "evalue": "name 'build_AT' is not defined",
     "output_type": "error",
     "traceback": [
      "\u001b[0;31m---------------------------------------------------------------------------\u001b[0m",
      "\u001b[0;31mNameError\u001b[0m                                 Traceback (most recent call last)",
      "\u001b[0;32m<ipython-input-20-8c257a914d8f>\u001b[0m in \u001b[0;36m<module>\u001b[0;34m\u001b[0m\n\u001b[1;32m      2\u001b[0m     \u001b[0mnewfile\u001b[0m \u001b[0;34m=\u001b[0m \u001b[0msplit_file\u001b[0m\u001b[0;34m(\u001b[0m\u001b[0mpigfile\u001b[0m\u001b[0;34m)\u001b[0m\u001b[0;34m\u001b[0m\u001b[0;34m\u001b[0m\u001b[0m\n\u001b[1;32m      3\u001b[0m     \u001b[0mRawdata\u001b[0m \u001b[0;34m=\u001b[0m \u001b[0mimport_data\u001b[0m\u001b[0;34m(\u001b[0m\u001b[0mnewfile\u001b[0m\u001b[0;34m)\u001b[0m\u001b[0;34m\u001b[0m\u001b[0;34m\u001b[0m\u001b[0m\n\u001b[0;32m----> 4\u001b[0;31m     \u001b[0mAT\u001b[0m \u001b[0;34m=\u001b[0m \u001b[0mbuild_AT\u001b[0m\u001b[0;34m(\u001b[0m\u001b[0mRawdata\u001b[0m\u001b[0;34m)\u001b[0m\u001b[0;34m\u001b[0m\u001b[0;34m\u001b[0m\u001b[0m\n\u001b[0m\u001b[1;32m      5\u001b[0m     \u001b[0mRT\u001b[0m \u001b[0;34m=\u001b[0m \u001b[0mbuild_RT\u001b[0m\u001b[0;34m\u001b[0m\u001b[0;34m\u001b[0m\u001b[0m\n",
      "\u001b[0;31mNameError\u001b[0m: name 'build_AT' is not defined"
     ]
    }
   ],
   "source": [
    "for pigfiles in pigfile:\n",
    "    newfile = split_file(pigfile)\n",
    "    Rawdata = import_data(newfile)\n",
    "    AT = build_AT(Rawdata)\n",
    "    RT = build_RT"
   ]
  },
  {
   "cell_type": "code",
   "execution_count": 23,
   "metadata": {},
   "outputs": [
    {
     "data": {
      "text/plain": [
       "'Pig109011RAcontrol/Run0002R000.csv'"
      ]
     },
     "execution_count": 23,
     "metadata": {},
     "output_type": "execute_result"
    }
   ],
   "source": [
    "split_file = pigfiles.split(\".\")\n",
    "newfile = split_file[0]+\".csv\"\n",
    "shutil.copy(pigfiles, newfile)"
   ]
  },
  {
   "cell_type": "code",
   "execution_count": 19,
   "metadata": {},
   "outputs": [],
   "source": [
    "def import_data(pigfiles):\n",
    "    return\n",
    "    textfile = pandas.read_csv(file)\n",
    "    data = textfile.to_numpy()"
   ]
  },
  {
   "cell_type": "code",
   "execution_count": 16,
   "metadata": {},
   "outputs": [],
   "source": [
    "def split_file(folder):\n",
    "    return\n",
    "    split_file = pigfiles.split(\".\")\n",
    "    newfile = split_file[0]+\".csv\"\n",
    "    shutil.copy(pigfiles, newfile)\n",
    "    "
   ]
  },
  {
   "cell_type": "code",
   "execution_count": 1,
   "metadata": {},
   "outputs": [],
   "source": [
    "def build_AT(data):\n",
    "    Rawdata[2:,:]\n",
    "    "
   ]
  },
  {
   "cell_type": "code",
   "execution_count": 2,
   "metadata": {},
   "outputs": [],
   "source": [
    "def build_RT(data):\n",
    "    Rawdata[3:,:]"
   ]
  },
  {
   "cell_type": "code",
   "execution_count": null,
   "metadata": {},
   "outputs": [],
   "source": []
  }
 ],
 "metadata": {
  "kernelspec": {
   "display_name": "Python 3",
   "language": "python",
   "name": "python3"
  },
  "language_info": {
   "codemirror_mode": {
    "name": "ipython",
    "version": 3
   },
   "file_extension": ".py",
   "mimetype": "text/x-python",
   "name": "python",
   "nbconvert_exporter": "python",
   "pygments_lexer": "ipython3",
   "version": "3.7.5"
  }
 },
 "nbformat": 4,
 "nbformat_minor": 2
}
